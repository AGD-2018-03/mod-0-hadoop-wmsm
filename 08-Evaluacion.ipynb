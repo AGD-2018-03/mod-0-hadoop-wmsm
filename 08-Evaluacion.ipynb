{
 "cells": [
  {
   "cell_type": "markdown",
   "metadata": {},
   "source": [
    "**Recuerde no agregar o quitar celdas en este notebook, ni modificar su tipo. Si lo hace, el sistema automaticamente lo calificará con cero punto cero (0.0)**"
   ]
  },
  {
   "cell_type": "markdown",
   "metadata": {},
   "source": [
    "Ordene el archivo por letra y valor (3ra columna)."
   ]
  },
  {
   "cell_type": "code",
   "execution_count": 1,
   "metadata": {},
   "outputs": [
    {
     "name": "stdout",
     "output_type": "stream",
     "text": [
      "Writing input.txt\n"
     ]
    }
   ],
   "source": [
    "%%writefile input.txt\n",
    "B   1999-08-28   14\n",
    "E   1999-12-06   12\n",
    "E   1993-07-21   9\n",
    "C   1991-02-12   13\n",
    "E   1995-04-25   2\n",
    "A   1992-08-22   14\n",
    "B   1999-06-11   121\n",
    "E   1993-01-27   9\n",
    "E   1999-09-10   11\n",
    "E   1990-05-03   16\n",
    "E   1994-02-14   10\n",
    "A   1988-04-27   121\n",
    "A   1990-10-06   10\n",
    "E   1985-02-12   16\n",
    "E   1998-09-14   2\n",
    "B   1994-08-30   17\n",
    "A   1997-12-15   13\n",
    "B   1995-08-23   1\n",
    "B   1998-11-22   131\n",
    "B   1997-04-09   14\n",
    "E   1993-12-27   18\n",
    "E   1999-01-14   15\n",
    "A   1992-09-19   8\n",
    "B   1993-03-02   14\n",
    "B   1999-10-21   13\n",
    "A   1990-08-31   12\n",
    "C   1994-01-25   10\n",
    "E   1990-02-09   18\n",
    "A   1990-09-26   8\n",
    "A   1993-05-08   16\n",
    "B   1995-09-06   14\n",
    "E   1991-02-18   141\n",
    "A   1993-01-11   14\n",
    "A   1990-07-22   0\n",
    "C   1994-09-09   15\n",
    "C   1994-07-27   104\n",
    "D   1990-10-10   15\n",
    "A   1990-09-05   11\n",
    "B   1991-10-01   9\n",
    "A   1994-10-25   13"
   ]
  },
  {
   "cell_type": "markdown",
   "metadata": {},
   "source": [
    "## Mapper"
   ]
  },
  {
   "cell_type": "code",
   "execution_count": 2,
   "metadata": {},
   "outputs": [
    {
     "name": "stdout",
     "output_type": "stream",
     "text": [
      "Writing mapper.py\n"
     ]
    }
   ],
   "source": [
    "%%writefile mapper.py\n",
    "#! /usr/bin/env python\n",
    "\n",
    "import sys\n",
    "\n",
    "class Mapper:\n",
    "    \n",
    "    NOTHING      = 0\n",
    "    JUST_COUNTER = 1\n",
    "    JUST_STATUS  = 2\n",
    "    ALL          = 3\n",
    "    \n",
    "    def __init__(s, str_in, str_out, str_err, log_level=NOTHING):\n",
    "        s.str_in  = str_in\n",
    "        s.str_out = str_out\n",
    "        s.str_err = str_err\n",
    "        s.log_level = log_level\n",
    "    \n",
    "    def emit(s, key, value=1):\n",
    "        s.str_out.write('{}\\t{}\\n'.format(key, value))\n",
    "\n",
    "    def status(s, message):\n",
    "        s.str_err.write('reporter:status: {}\\n'.format(message))\n",
    "    \n",
    "    def counter(s, counter, amount=1, group='ApplicationCounter'):\n",
    "        s.str_err.write('reporter:counter: {},{},{}\\n'.format(group, counter, amount))\n",
    "    \n",
    "    def map(s):\n",
    "        \n",
    "        counter = 0\n",
    "        \n",
    "        for line in s:\n",
    "            \n",
    "            counter += 1\n",
    "            if s.log_level in [2, 3]: s.status('Processing line {}'.format(line))\n",
    "            if s.log_level in [1, 3]: s.counter('NumberLines', counter)\n",
    "            \n",
    "            s.emit('{},{:0>4}'.format(line[0],line[17:]),line)\n",
    "\n",
    "    def __iter__(s):\n",
    "        for line in s.str_in:\n",
    "            yield line[:-1]\n",
    "            \n",
    "\n",
    "if __name__ == \"__main__\": \n",
    "    \n",
    "    mapper = Mapper(sys.stdin, sys.stdout, sys.stderr)\n",
    "    \n",
    "    mapper.map()"
   ]
  },
  {
   "cell_type": "markdown",
   "metadata": {},
   "source": [
    "## Reducer"
   ]
  },
  {
   "cell_type": "code",
   "execution_count": 3,
   "metadata": {},
   "outputs": [
    {
     "name": "stdout",
     "output_type": "stream",
     "text": [
      "Writing reducer.py\n"
     ]
    }
   ],
   "source": [
    "%%writefile reducer.py\n",
    "#!/usr/bin/env python\n",
    "\n",
    "import sys\n",
    "from itertools import groupby\n",
    "\n",
    "class Reducer:\n",
    "    \n",
    "    def __init__(s, str_in, str_out, str_err):\n",
    "        s.str_in  = str_in\n",
    "        s.str_out = str_out\n",
    "        s.str_err = str_err\n",
    "    \n",
    "    def emit(s, value):\n",
    "        s.str_out.write('{}\\n'.format(value))\n",
    "    \n",
    "    def reduce(s):\n",
    "        for key, val in s:\n",
    "            s.emit(val)\n",
    "    \n",
    "    def __iter__(s):\n",
    "        for line in s.str_in:\n",
    "            key, val = line.split('\\t')\n",
    "            yield(key,val[:-1])\n",
    "\n",
    "if __name__ == '__main__': \n",
    "    reducer = Reducer(sys.stdin,sys.stdout,sys.stderr)\n",
    "    reducer.reduce()"
   ]
  },
  {
   "cell_type": "markdown",
   "metadata": {},
   "source": [
    "## Ejecución"
   ]
  },
  {
   "cell_type": "code",
   "execution_count": 4,
   "metadata": {},
   "outputs": [
    {
     "name": "stdout",
     "output_type": "stream",
     "text": [
      "A   1990-07-22   0\t\n",
      "A   1990-09-26   8\t\n",
      "A   1992-09-19   8\t\n",
      "A   1990-10-06   10\t\n",
      "A   1990-09-05   11\t\n",
      "A   1990-08-31   12\t\n",
      "A   1997-12-15   13\t\n",
      "A   1994-10-25   13\t\n",
      "A   1993-01-11   14\t\n",
      "A   1992-08-22   14\t\n",
      "A   1993-05-08   16\t\n",
      "A   1988-04-27   121\t\n",
      "B   1995-08-23   1\t\n",
      "B   1991-10-01   9\t\n",
      "B   1999-10-21   13\t\n",
      "B   1997-04-09   14\t\n",
      "B   1995-09-06   14\t\n",
      "B   1993-03-02   14\t\n",
      "B   1999-08-28   14\t\n",
      "B   1994-08-30   17\t\n",
      "B   1999-06-11   121\t\n",
      "B   1998-11-22   131\t\n",
      "C   1994-01-25   10\t\n",
      "C   1991-02-12   13\t\n",
      "C   1994-09-09   15\t\n",
      "C   1994-07-27   104\t\n",
      "D   1990-10-10   15\t\n",
      "E   1998-09-14   2\t\n",
      "E   1995-04-25   2\t\n",
      "E   1993-07-21   9\t\n",
      "E   1993-01-27   9\t\n",
      "E   1994-02-14   10\t\n",
      "E   1999-09-10   11\t\n",
      "E   1999-12-06   12\t\n",
      "E   1999-01-14   15\t\n",
      "E   1990-05-03   16\t\n",
      "E   1985-02-12   16\t\n",
      "E   1990-02-09   18\t\n",
      "E   1993-12-27   18\t\n",
      "E   1991-02-18   141\t\n"
     ]
    }
   ],
   "source": [
    "%%bash\n",
    "rm -rf output\n",
    "STREAM=$HADOOP_HOME/share/hadoop/tools/lib/hadoop-streaming-*.jar\n",
    "chmod +x mapper.py\n",
    "chmod +x reducer.py\n",
    "hadoop jar $STREAM -input input.txt -output output  -mapper mapper.py -reducer reducer.py\n",
    "cat output/part-00000"
   ]
  },
  {
   "cell_type": "code",
   "execution_count": 5,
   "metadata": {},
   "outputs": [],
   "source": [
    "!rm -rf mapper.py reducer.py output input.txt"
   ]
  },
  {
   "cell_type": "markdown",
   "metadata": {},
   "source": [
    "---"
   ]
  },
  {
   "cell_type": "markdown",
   "metadata": {},
   "source": [
    "Para realizar la evaluación automática de este libro:\n",
    "\n",
    "* Abra un Terminal.\n",
    "* Asegurece que esat en la misma carpeta que contiene este notebook.\n",
    "* Salve el notebook.\n",
    "* Ejecute el siguiente comando:\n",
    "\n",
    "      ./gradetool 08-Taller.ipynb"
   ]
  },
  {
   "cell_type": "markdown",
   "metadata": {},
   "source": [
    "---"
   ]
  }
 ],
 "metadata": {
  "kernelspec": {
   "display_name": "Python 3",
   "language": "python",
   "name": "python3"
  },
  "language_info": {
   "codemirror_mode": {
    "name": "ipython",
    "version": 3
   },
   "file_extension": ".py",
   "mimetype": "text/x-python",
   "name": "python",
   "nbconvert_exporter": "python",
   "pygments_lexer": "ipython3",
   "version": "3.6.5"
  },
  "toc": {
   "base_numbering": 1,
   "nav_menu": {},
   "number_sections": false,
   "sideBar": true,
   "skip_h1_title": true,
   "title_cell": "Table of Contents",
   "title_sidebar": "Contents",
   "toc_cell": false,
   "toc_position": {},
   "toc_section_display": true,
   "toc_window_display": true
  },
  "toc-autonumbering": false
 },
 "nbformat": 4,
 "nbformat_minor": 2
}

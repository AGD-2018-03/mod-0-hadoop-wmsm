{
 "cells": [
  {
   "cell_type": "markdown",
   "metadata": {},
   "source": [
    "**Recuerde no agregar o quitar celdas en este notebook, ni modificar su tipo. Si lo hace, el sistema automaticamente lo calificará con cero punto cero (0.0)**"
   ]
  },
  {
   "cell_type": "markdown",
   "metadata": {},
   "source": [
    "Obtenga los 5 registros con valores más pequeños en la tercera columna."
   ]
  },
  {
   "cell_type": "code",
   "execution_count": 1,
   "metadata": {},
   "outputs": [
    {
     "name": "stdout",
     "output_type": "stream",
     "text": [
      "Writing input.txt\n"
     ]
    }
   ],
   "source": [
    "%%writefile input.txt\n",
    "B   1999-08-28   14\n",
    "E   1999-12-06   121\n",
    "E   1993-07-21   17\n",
    "C   1991-02-12   2\n",
    "E   1995-04-25   161\n",
    "A   1992-08-22   14\n",
    "B   1999-06-11   12\n",
    "E   1993-01-27   8\n",
    "E   1999-09-10   11\n",
    "E   1990-05-03   16\n",
    "E   1994-02-14   101\n",
    "A   1988-04-27   9\n",
    "A   1990-10-06   10\n",
    "E   1985-02-12   16\n",
    "E   1998-09-14   7\n",
    "B   1994-08-30   17\n",
    "A   1997-12-15   13\n",
    "B   1995-08-23   101\n",
    "B   1998-11-22   13\n",
    "B   1997-04-09   6\n",
    "E   1993-12-27   181\n",
    "E   1999-01-14   15\n",
    "A   1992-09-19   18\n",
    "B   1993-03-02   14\n",
    "B   1999-10-21   131\n",
    "A   1990-08-31   12\n",
    "C   1994-01-25   10\n",
    "E   1990-02-09   18\n",
    "A   1990-09-26   5\n",
    "A   1993-05-08   16\n",
    "B   1995-09-06   141\n",
    "E   1991-02-18   14\n",
    "A   1993-01-11   141\n",
    "A   1990-07-22   4\n",
    "C   1994-09-09   151\n",
    "C   1994-07-27   1\n",
    "D   1990-10-10   151\n",
    "A   1990-09-05   11\n",
    "B   1991-10-01   151\n",
    "A   1994-10-25   13"
   ]
  },
  {
   "cell_type": "markdown",
   "metadata": {},
   "source": [
    "## Mapper"
   ]
  },
  {
   "cell_type": "code",
   "execution_count": 2,
   "metadata": {},
   "outputs": [
    {
     "name": "stdout",
     "output_type": "stream",
     "text": [
      "Writing mapper.py\n"
     ]
    }
   ],
   "source": [
    "%%writefile mapper.py\n",
    "#! /usr/bin/env python\n",
    "\n",
    "import sys\n",
    "\n",
    "class Mapper:\n",
    "    \n",
    "    NOTHING      = 0\n",
    "    JUST_COUNTER = 1\n",
    "    JUST_STATUS  = 2\n",
    "    ALL          = 3\n",
    "    \n",
    "    def __init__(s, log_level=NOTHING):\n",
    "        s.log_level = log_level\n",
    "    \n",
    "    def emit(self, key, value=1):\n",
    "        sys.stdout.write('{}\\t{}\\n'.format(key, value))\n",
    "    \n",
    "    def status(s, message):\n",
    "        sys.stderr.write('reporter:status: {}\\n'.format(message))\n",
    "    \n",
    "    def counter(s, counter, amount=1, group='ApplicationCounter'):\n",
    "        sys.stderr.write('reporter:counter: {},{},{}\\n'.format(group, counter, amount))\n",
    "    \n",
    "    def map(s):\n",
    "        \n",
    "        counter = 0\n",
    "        \n",
    "        for line in s:\n",
    "            \n",
    "            counter += 1\n",
    "            if s.log_level in [2, 3]: s.status('Processing line {}'.format(line))\n",
    "            if s.log_level in [1, 3]: s.counter('NumberLines', counter)\n",
    "            \n",
    "            s.emit('{:0>4}'.format(line[17:]),line)\n",
    "\n",
    "    def __iter__(s):\n",
    "        for line in sys.stdin:\n",
    "            yield line[:-1]\n",
    "    \n",
    "if __name__ == \"__main__\": \n",
    "    \n",
    "    mapper = Mapper()\n",
    "    mapper.map()"
   ]
  },
  {
   "cell_type": "markdown",
   "metadata": {},
   "source": [
    "## Reducer"
   ]
  },
  {
   "cell_type": "code",
   "execution_count": 3,
   "metadata": {},
   "outputs": [
    {
     "name": "stdout",
     "output_type": "stream",
     "text": [
      "Writing reducer.py\n"
     ]
    }
   ],
   "source": [
    "%%writefile reducer.py\n",
    "#!/usr/bin/env python\n",
    "\n",
    "import sys\n",
    "from itertools import groupby\n",
    "\n",
    "class Reducer:\n",
    "    \n",
    "    def __init__(s, str_in, str_out, str_err):\n",
    "        s.str_in  = str_in\n",
    "        s.str_out = str_out\n",
    "        s.str_err = str_err\n",
    "    \n",
    "    def emit(s, value):\n",
    "        s.str_out.write('{}\\n'.format(value))\n",
    "    \n",
    "    def reduce(s):\n",
    "        counter=0\n",
    "        for key, value in s:\n",
    "            counter+=1\n",
    "            s.emit(value)\n",
    "            if counter >= 5: break\n",
    "    \n",
    "    def __iter__(s):\n",
    "        for line in s.str_in:\n",
    "            key, val = line.split('\\t')\n",
    "            val = val[:-1]\n",
    "            yield(key,val)\n",
    "\n",
    "if __name__ == '__main__': \n",
    "    reducer = Reducer(sys.stdin,sys.stdout,sys.stderr)\n",
    "    reducer.reduce()"
   ]
  },
  {
   "cell_type": "markdown",
   "metadata": {},
   "source": [
    "## Ejecución"
   ]
  },
  {
   "cell_type": "code",
   "execution_count": 4,
   "metadata": {},
   "outputs": [
    {
     "name": "stdout",
     "output_type": "stream",
     "text": [
      "C   1994-07-27   1\t\n",
      "C   1991-02-12   2\t\n",
      "A   1990-07-22   4\t\n",
      "A   1990-09-26   5\t\n",
      "B   1997-04-09   6\t\n"
     ]
    }
   ],
   "source": [
    "%%bash\n",
    "rm -rf output\n",
    "STREAM=$HADOOP_HOME/share/hadoop/tools/lib/hadoop-streaming-*.jar\n",
    "chmod +x mapper.py\n",
    "chmod +x reducer.py\n",
    "hadoop jar $STREAM -input input.txt -output output  -mapper mapper.py -reducer reducer.py\n",
    "cat output/part-00000"
   ]
  },
  {
   "cell_type": "code",
   "execution_count": 5,
   "metadata": {},
   "outputs": [],
   "source": [
    "!rm -rf mapper.py reducer.py output input.txt"
   ]
  },
  {
   "cell_type": "markdown",
   "metadata": {},
   "source": [
    "---"
   ]
  },
  {
   "cell_type": "markdown",
   "metadata": {},
   "source": [
    "Para realizar la evaluación automática de este libro:\n",
    "\n",
    "* Abra un Terminal.\n",
    "* Asegurece que esat en la misma carpeta que contiene este notebook.\n",
    "* Salve el notebook.\n",
    "* Ejecute el siguiente comando:\n",
    "\n",
    "      ./gradetool 10-Taller.ipynb"
   ]
  },
  {
   "cell_type": "markdown",
   "metadata": {},
   "source": [
    "---"
   ]
  }
 ],
 "metadata": {
  "kernelspec": {
   "display_name": "Python 3",
   "language": "python",
   "name": "python3"
  },
  "language_info": {
   "codemirror_mode": {
    "name": "ipython",
    "version": 3
   },
   "file_extension": ".py",
   "mimetype": "text/x-python",
   "name": "python",
   "nbconvert_exporter": "python",
   "pygments_lexer": "ipython3",
   "version": "3.6.5"
  },
  "toc": {
   "base_numbering": 1,
   "nav_menu": {},
   "number_sections": false,
   "sideBar": true,
   "skip_h1_title": true,
   "title_cell": "Table of Contents",
   "title_sidebar": "Contents",
   "toc_cell": false,
   "toc_position": {},
   "toc_section_display": true,
   "toc_window_display": true
  },
  "toc-autonumbering": false
 },
 "nbformat": 4,
 "nbformat_minor": 2
}
